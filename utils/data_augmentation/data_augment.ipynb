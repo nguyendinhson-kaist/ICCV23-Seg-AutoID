{
 "cells": [
  {
   "cell_type": "code",
   "execution_count": 46,
   "metadata": {},
   "outputs": [],
   "source": [
    "import cv2\n",
    "import numpy as np\n",
    "import matplotlib.pyplot as plt\n",
    "import glob\n",
    "import os\n",
    "import random\n",
    "import albumentations as A\n",
    "import paste\n",
    "from instaboostfast import InstaBoost\n",
    "import json\n",
    "import getcoco"
   ]
  },
  {
   "cell_type": "code",
   "execution_count": 47,
   "metadata": {},
   "outputs": [],
   "source": [
    "data_dir = '../../data'\n",
    "image_dir = 'images'\n",
    "label_dir = 'labels'\n",
    "crop_image_dir = 'c_images'\n",
    "crop_label_dir = 'c_labels'\n",
    "annotation_dir = 'annotations'\n",
    "source_image_dir = 'src_images'\n",
    "source_label_dir = 'src_labels'\n",
    "aug_image_dir = 'new_images'\n",
    "aug_label_dir = 'new_labels'\n",
    "mask_dir = 'new_masks'"
   ]
  },
  {
   "cell_type": "code",
   "execution_count": 48,
   "metadata": {},
   "outputs": [
    {
     "data": {
      "text/plain": [
       "<function matplotlib.pyplot.show(*, block=None)>"
      ]
     },
     "execution_count": 48,
     "metadata": {},
     "output_type": "execute_result"
    }
   ],
   "source": [
    "input_path = '../../data/src_images/0_aug/KS-FR-BLOIS_24330_1513711368928_1:1.png'\n",
    "output_path = '../../data/new_images/KS-FR-BLOIS_24330_1513711368928_1:1.png'\n",
    "input_image = cv2.imread(input_path)\n",
    "input_image = cv2.cvtColor(input_image, cv2.COLOR_BGR2RGB)\n",
    "plt.imshow(input_image)\n",
    "plt.axis('off')\n",
    "plt.show"
   ]
  },
  {
   "cell_type": "code",
   "execution_count": 49,
   "metadata": {},
   "outputs": [],
   "source": [
    "image = cv2.imread(input_path)\n",
    "image = cv2.cvtColor(image, cv2.COLOR_BGR2RGB)\n",
    "h, w = image.shape[:2]\n",
    "gray = cv2.cvtColor(image, cv2.COLOR_BGR2GRAY)"
   ]
  },
  {
   "cell_type": "code",
   "execution_count": 50,
   "metadata": {},
   "outputs": [
    {
     "data": {
      "text/plain": [
       "array([[[ 26,  19,  29],\n",
       "        [ 28,  21,  31],\n",
       "        [ 29,  27,  39],\n",
       "        ...,\n",
       "        [  1,   4,   6],\n",
       "        [  0,   3,   7],\n",
       "        [  0,   3,   7]],\n",
       "\n",
       "       [[ 25,  18,  28],\n",
       "        [ 28,  21,  31],\n",
       "        [ 30,  28,  40],\n",
       "        ...,\n",
       "        [  0,   3,   5],\n",
       "        [  0,   2,   6],\n",
       "        [  0,   2,   6]],\n",
       "\n",
       "       [[ 23,  17,  29],\n",
       "        [ 25,  19,  31],\n",
       "        [ 28,  26,  38],\n",
       "        ...,\n",
       "        [  0,   5,   3],\n",
       "        [  0,   2,   4],\n",
       "        [  0,   0,   2]],\n",
       "\n",
       "       ...,\n",
       "\n",
       "       [[146, 133, 156],\n",
       "        [148, 135, 158],\n",
       "        [147, 139, 158],\n",
       "        ...,\n",
       "        [ 34,  39,  49],\n",
       "        [ 28,  36,  45],\n",
       "        [ 26,  34,  43]],\n",
       "\n",
       "       [[150, 141, 163],\n",
       "        [150, 141, 163],\n",
       "        [154, 148, 162],\n",
       "        ...,\n",
       "        [ 37,  39,  50],\n",
       "        [ 32,  36,  49],\n",
       "        [ 28,  32,  45]],\n",
       "\n",
       "       [[154, 145, 167],\n",
       "        [155, 146, 168],\n",
       "        [165, 159, 173],\n",
       "        ...,\n",
       "        [ 38,  40,  51],\n",
       "        [ 36,  40,  53],\n",
       "        [ 32,  36,  49]]], dtype=uint8)"
      ]
     },
     "execution_count": 50,
     "metadata": {},
     "output_type": "execute_result"
    }
   ],
   "source": [
    "# Set the lower and upper threshold for white color\n",
    "lower_white = np.array([200])  # Adjust the threshold as needed\n",
    "upper_white = np.array([255])\n",
    "# Create a binary mask for white color\n",
    "white_mask = cv2.inRange(gray, lower_white, upper_white)\n",
    "\n",
    "# Find contours of white objects\n",
    "contours, _ = cv2.findContours(white_mask, cv2.RETR_EXTERNAL, cv2.CHAIN_APPROX_SIMPLE)\n",
    "\n",
    "# Draw the contours on the original image\n",
    "blank = np.zeros_like(image)\n",
    "threshold_area = 3000\n",
    "\n",
    "# Initialize variables to store extreme points\n",
    "rightmost = (w/2, h/2)\n",
    "leftmost = (w/2, h/2)\n",
    "topmost = (w/2, h/2)\n",
    "bottommost = (w/2, h/2)\n",
    "\n",
    "# Iterate over the contours and print only the big contours\n",
    "for contour in contours:\n",
    "    # Calculate the contour area\n",
    "    area = cv2.contourArea(contour)\n",
    "    \n",
    "    # Check if the contour area is above the threshold\n",
    "    if area > threshold_area:\n",
    "        cv2.drawContours(blank, [contour], -1, (0, 255, 0), 2)\n",
    "        \n",
    "        # Find the leftmost, rightmost, topmost, and bottommost points of the contour\n",
    "        leftmost_point = tuple(contour[contour[:, :, 0].argmin()][0])\n",
    "        rightmost_point = tuple(contour[contour[:, :, 0].argmax()][0])\n",
    "        topmost_point = tuple(contour[contour[:, :, 1].argmin()][0])\n",
    "        bottommost_point = tuple(contour[contour[:, :, 1].argmax()][0])\n",
    "        \n",
    "        # Update extreme points\n",
    "        if leftmost_point[0] < leftmost[0]:\n",
    "            leftmost = leftmost_point\n",
    "        if rightmost_point[0] > rightmost[0]:\n",
    "            rightmost = rightmost_point\n",
    "        if topmost_point[1] < topmost[1]:\n",
    "            topmost = topmost_point\n",
    "        if bottommost_point[1] > bottommost[1]:\n",
    "            bottommost = bottommost_point\n",
    "\n",
    "# Save the extreme points\n",
    "extreme_points = [rightmost, topmost, leftmost, bottommost]\n",
    "# Draw a polygon using the extreme points on top of the image\n",
    "cv2.polylines(image, [np.array(extreme_points)], True, (0, 255, 0), 8)"
   ]
  },
  {
   "cell_type": "code",
   "execution_count": 51,
   "metadata": {},
   "outputs": [
    {
     "data": {
      "text/plain": [
       "<function matplotlib.pyplot.show(*, block=None)>"
      ]
     },
     "execution_count": 51,
     "metadata": {},
     "output_type": "execute_result"
    }
   ],
   "source": [
    "plt.imshow(blank)\n",
    "plt.axis('off')\n",
    "plt.show"
   ]
  },
  {
   "cell_type": "code",
   "execution_count": 52,
   "metadata": {},
   "outputs": [
    {
     "data": {
      "text/plain": [
       "<function matplotlib.pyplot.show(*, block=None)>"
      ]
     },
     "execution_count": 52,
     "metadata": {},
     "output_type": "execute_result"
    }
   ],
   "source": [
    "image = cv2.cvtColor(image, cv2.COLOR_RGB2BGR)\n",
    "cv2.imwrite('testimage.png', image)\n",
    "image = cv2.cvtColor(image, cv2.COLOR_BGR2RGB)\n",
    "plt.imshow(image)\n",
    "plt.axis('off')\n",
    "plt.show"
   ]
  },
  {
   "cell_type": "code",
   "execution_count": 53,
   "metadata": {},
   "outputs": [
    {
     "data": {
      "text/plain": [
       "<function matplotlib.pyplot.show(*, block=None)>"
      ]
     },
     "execution_count": 53,
     "metadata": {},
     "output_type": "execute_result"
    }
   ],
   "source": [
    "ball_number = 2\n",
    "human_number = 8\n",
    "paste.paste_object(input_path, ball_number, human_number)\n",
    "output_image = cv2.imread(output_path)\n",
    "output_1 = cv2.cvtColor(output_image, cv2.COLOR_BGR2RGB)\n",
    "plt.imshow(output_1)\n",
    "plt.axis('off')\n",
    "plt.show"
   ]
  },
  {
   "cell_type": "code",
   "execution_count": 54,
   "metadata": {},
   "outputs": [
    {
     "data": {
      "text/plain": [
       "<function matplotlib.pyplot.show(*, block=None)>"
      ]
     },
     "execution_count": 54,
     "metadata": {},
     "output_type": "execute_result"
    }
   ],
   "source": [
    "input_path = input_path.replace('src_images/0_aug', 'new_images')\n",
    "paste.apply_random_augmentation(input_path)\n",
    "output_image = cv2.imread(output_path)\n",
    "output_2 = cv2.cvtColor(output_image, cv2.COLOR_BGR2RGB)\n",
    "plt.imshow(output_2)\n",
    "plt.axis('off')\n",
    "plt.show"
   ]
  },
  {
   "cell_type": "code",
   "execution_count": 55,
   "metadata": {},
   "outputs": [
    {
     "name": "stdout",
     "output_type": "stream",
     "text": [
      "Converting into COCO ...\n"
     ]
    },
    {
     "name": "stderr",
     "output_type": "stream",
     "text": [
      "100%|██████████| 2/2 [00:00<00:00, 27.11it/s]"
     ]
    },
    {
     "name": "stdout",
     "output_type": "stream",
     "text": [
      "2 images\n",
      "16 instances\n"
     ]
    },
    {
     "name": "stderr",
     "output_type": "stream",
     "text": [
      "\n"
     ]
    }
   ],
   "source": [
    "getcoco.convert2coco()"
   ]
  },
  {
   "cell_type": "code",
   "execution_count": 56,
   "metadata": {},
   "outputs": [
    {
     "data": {
      "text/plain": [
       "<function matplotlib.pyplot.show(*, block=None)>"
      ]
     },
     "execution_count": 56,
     "metadata": {},
     "output_type": "execute_result"
    }
   ],
   "source": [
    "annotation_path = '../../data/new_annotations/train_aug.json'\n",
    "output_path_2 = '../../data/new_images/instaboost.png'\n",
    "image = cv2.imread(input_path)\n",
    "image = cv2.cvtColor(image, cv2.COLOR_BGR2RGB)\n",
    "with open(annotation_path, 'r') as f:\n",
    "    annotation_data = json.load(f)\n",
    "augmented_annotations, augmented_image = InstaBoost.get_new_data(annotation_data['annotations'], image)\n",
    "augmented_image = cv2.cvtColor(augmented_image, cv2.COLOR_RGB2BGR)\n",
    "cv2.imwrite(output_path_2, augmented_image)\n",
    "with open('instaboost_anno.json', 'w') as f:\n",
    "    json.dump(augmented_annotations, f)\n",
    "    f.close()\n",
    "\n",
    "image = cv2.cvtColor(image, cv2.COLOR_BGR2RGB)   \n",
    "plt.imshow(image)\n",
    "plt.axis('off')\n",
    "plt.show"
   ]
  }
 ],
 "metadata": {
  "kernelspec": {
   "display_name": "Python 3",
   "language": "python",
   "name": "python3"
  },
  "language_info": {
   "codemirror_mode": {
    "name": "ipython",
    "version": 3
   },
   "file_extension": ".py",
   "mimetype": "text/x-python",
   "name": "python",
   "nbconvert_exporter": "python",
   "pygments_lexer": "ipython3",
   "version": "3.10.6"
  },
  "orig_nbformat": 4
 },
 "nbformat": 4,
 "nbformat_minor": 2
}
